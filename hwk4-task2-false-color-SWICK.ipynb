{
 "cells": [
  {
   "cell_type": "markdown",
   "id": "89777b9d-f05b-4009-b102-cd9c3f6e1e33",
   "metadata": {},
   "source": [
    "# Task 2: Visualizing fire scars through false color\n",
    "\n"
   ]
  },
  {
   "cell_type": "code",
   "execution_count": 1,
   "id": "5a7e4ffd-93b2-4b36-8dcd-3732f36b0247",
   "metadata": {
    "tags": []
   },
   "outputs": [],
   "source": [
    "# Load libraries\n",
    "import os \n",
    "import numpy as np\n",
    "import matplotlib.pyplot as plt\n",
    "import geopandas as gpd\n",
    "import rioxarray as rioxr"
   ]
  },
  {
   "cell_type": "code",
   "execution_count": null,
   "id": "163ac3c8-f2e8-456e-a9ea-c5657d0f0377",
   "metadata": {},
   "outputs": [],
   "source": [
    "# Load data\n"
   ]
  }
 ],
 "metadata": {
  "kernelspec": {
   "display_name": "Anaconda 3 (Base)",
   "language": "python",
   "name": "base"
  },
  "language_info": {
   "codemirror_mode": {
    "name": "ipython",
    "version": 3
   },
   "file_extension": ".py",
   "mimetype": "text/x-python",
   "name": "python",
   "nbconvert_exporter": "python",
   "pygments_lexer": "ipython3",
   "version": "3.9.13"
  }
 },
 "nbformat": 4,
 "nbformat_minor": 5
}
