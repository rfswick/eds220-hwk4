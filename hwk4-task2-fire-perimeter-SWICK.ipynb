{
 "cells": [
  {
   "cell_type": "markdown",
   "id": "89777b9d-f05b-4009-b102-cd9c3f6e1e33",
   "metadata": {},
   "source": [
    "# Task 2: Visualizing fire scars through false color\n",
    "\n",
    "Author: Rachel Swick\n",
    "\n",
    "\n",
    "## Data Exploration\n"
   ]
  },
  {
   "cell_type": "code",
   "execution_count": 1,
   "id": "5a7e4ffd-93b2-4b36-8dcd-3732f36b0247",
   "metadata": {
    "tags": []
   },
   "outputs": [],
   "source": [
    "# Load libraries\n",
    "import os \n",
    "import numpy as np\n",
    "import matplotlib.pyplot as plt\n",
    "import geopandas as gpd\n",
    "import rioxarray as rioxr"
   ]
  },
  {
   "cell_type": "code",
   "execution_count": 23,
   "id": "163ac3c8-f2e8-456e-a9ea-c5657d0f0377",
   "metadata": {
    "tags": []
   },
   "outputs": [],
   "source": [
    "# Load fire boundary data\n",
    "ca_fires = gpd.read_file(os.path.join('data', 'fire.gdb'))"
   ]
  },
  {
   "cell_type": "code",
   "execution_count": 11,
   "id": "ecc42aa7-f962-4369-8e79-01a2978b328e",
   "metadata": {
    "tags": []
   },
   "outputs": [
    {
     "data": {
      "text/html": [
       "<div>\n",
       "<style scoped>\n",
       "    .dataframe tbody tr th:only-of-type {\n",
       "        vertical-align: middle;\n",
       "    }\n",
       "\n",
       "    .dataframe tbody tr th {\n",
       "        vertical-align: top;\n",
       "    }\n",
       "\n",
       "    .dataframe thead th {\n",
       "        text-align: right;\n",
       "    }\n",
       "</style>\n",
       "<table border=\"1\" class=\"dataframe\">\n",
       "  <thead>\n",
       "    <tr style=\"text-align: right;\">\n",
       "      <th></th>\n",
       "      <th>YEAR_</th>\n",
       "      <th>STATE</th>\n",
       "      <th>AGENCY</th>\n",
       "      <th>UNIT_ID</th>\n",
       "      <th>FIRE_NAME</th>\n",
       "      <th>INC_NUM</th>\n",
       "      <th>IRWINID</th>\n",
       "      <th>ALARM_DATE</th>\n",
       "      <th>CONT_DATE</th>\n",
       "      <th>C_METHOD</th>\n",
       "      <th>CAUSE</th>\n",
       "      <th>OBJECTIVE</th>\n",
       "      <th>GIS_ACRES</th>\n",
       "      <th>COMPLEX_NAME</th>\n",
       "      <th>COMPLEX_ID</th>\n",
       "      <th>COMMENTS</th>\n",
       "      <th>FIRE_NUM</th>\n",
       "      <th>Shape_Length</th>\n",
       "      <th>Shape_Area</th>\n",
       "      <th>geometry</th>\n",
       "    </tr>\n",
       "  </thead>\n",
       "  <tbody>\n",
       "    <tr>\n",
       "      <th>0</th>\n",
       "      <td>2023.0</td>\n",
       "      <td>CA</td>\n",
       "      <td>CDF</td>\n",
       "      <td>SKU</td>\n",
       "      <td>WHITWORTH</td>\n",
       "      <td>00004808</td>\n",
       "      <td>{7985848C-0AC2-4BA4-8F0E-29F778652E61}</td>\n",
       "      <td>2023-06-17T00:00:00</td>\n",
       "      <td>2023-06-17T00:00:00</td>\n",
       "      <td>1.0</td>\n",
       "      <td>5.0</td>\n",
       "      <td>1.0</td>\n",
       "      <td>5.729125</td>\n",
       "      <td>None</td>\n",
       "      <td>None</td>\n",
       "      <td>None</td>\n",
       "      <td>None</td>\n",
       "      <td>933.907127</td>\n",
       "      <td>23184.946763</td>\n",
       "      <td>MULTIPOLYGON (((-243242.555 394267.371, -24324...</td>\n",
       "    </tr>\n",
       "    <tr>\n",
       "      <th>1</th>\n",
       "      <td>2023.0</td>\n",
       "      <td>CA</td>\n",
       "      <td>LRA</td>\n",
       "      <td>BTU</td>\n",
       "      <td>KAISER</td>\n",
       "      <td>00010225</td>\n",
       "      <td>{43EBCC88-B3AC-48EB-8EF5-417FE0939CCF}</td>\n",
       "      <td>2023-06-02T00:00:00</td>\n",
       "      <td>2023-06-02T00:00:00</td>\n",
       "      <td>1.0</td>\n",
       "      <td>5.0</td>\n",
       "      <td>1.0</td>\n",
       "      <td>13.602385</td>\n",
       "      <td>None</td>\n",
       "      <td>None</td>\n",
       "      <td>None</td>\n",
       "      <td>None</td>\n",
       "      <td>986.343353</td>\n",
       "      <td>55046.898792</td>\n",
       "      <td>MULTIPOLYGON (((-167826.147 203275.612, -16782...</td>\n",
       "    </tr>\n",
       "    <tr>\n",
       "      <th>2</th>\n",
       "      <td>2023.0</td>\n",
       "      <td>CA</td>\n",
       "      <td>CDF</td>\n",
       "      <td>AEU</td>\n",
       "      <td>JACKSON</td>\n",
       "      <td>00017640</td>\n",
       "      <td>{B64E1355-BF1D-441A-95D0-BC1FBB93483B}</td>\n",
       "      <td>2023-07-01T00:00:00</td>\n",
       "      <td>2023-07-02T00:00:00</td>\n",
       "      <td>1.0</td>\n",
       "      <td>2.0</td>\n",
       "      <td>1.0</td>\n",
       "      <td>27.814465</td>\n",
       "      <td>None</td>\n",
       "      <td>None</td>\n",
       "      <td>None</td>\n",
       "      <td>None</td>\n",
       "      <td>2115.572740</td>\n",
       "      <td>112561.147688</td>\n",
       "      <td>MULTIPOLYGON (((-79176.443 31393.490, -78959.0...</td>\n",
       "    </tr>\n",
       "    <tr>\n",
       "      <th>3</th>\n",
       "      <td>2023.0</td>\n",
       "      <td>CA</td>\n",
       "      <td>CDF</td>\n",
       "      <td>AEU</td>\n",
       "      <td>CARBON</td>\n",
       "      <td>00018821</td>\n",
       "      <td>{CB41DB0A-E4B1-489D-A4EA-738F2CD6DB3B}</td>\n",
       "      <td>2023-07-11T00:00:00</td>\n",
       "      <td>2023-07-11T00:00:00</td>\n",
       "      <td>1.0</td>\n",
       "      <td>9.0</td>\n",
       "      <td>1.0</td>\n",
       "      <td>58.760227</td>\n",
       "      <td>None</td>\n",
       "      <td>None</td>\n",
       "      <td>None</td>\n",
       "      <td>None</td>\n",
       "      <td>1994.866526</td>\n",
       "      <td>237794.210367</td>\n",
       "      <td>MULTIPOLYGON (((-85936.934 47921.886, -85856.4...</td>\n",
       "    </tr>\n",
       "    <tr>\n",
       "      <th>4</th>\n",
       "      <td>2023.0</td>\n",
       "      <td>CA</td>\n",
       "      <td>CDF</td>\n",
       "      <td>AEU</td>\n",
       "      <td>LIBERTY</td>\n",
       "      <td>00018876</td>\n",
       "      <td>{F83F70A4-07A7-40B8-BD51-10CCC1C30D63}</td>\n",
       "      <td>2023-07-11T00:00:00</td>\n",
       "      <td>2023-07-12T00:00:00</td>\n",
       "      <td>1.0</td>\n",
       "      <td>14.0</td>\n",
       "      <td>1.0</td>\n",
       "      <td>70.978996</td>\n",
       "      <td>None</td>\n",
       "      <td>None</td>\n",
       "      <td>None</td>\n",
       "      <td>None</td>\n",
       "      <td>4008.305800</td>\n",
       "      <td>287241.810389</td>\n",
       "      <td>MULTIPOLYGON (((-86427.836 26461.613, -86436.1...</td>\n",
       "    </tr>\n",
       "  </tbody>\n",
       "</table>\n",
       "</div>"
      ],
      "text/plain": [
       "    YEAR_ STATE AGENCY UNIT_ID  FIRE_NAME   INC_NUM  \\\n",
       "0  2023.0    CA    CDF     SKU  WHITWORTH  00004808   \n",
       "1  2023.0    CA    LRA     BTU     KAISER  00010225   \n",
       "2  2023.0    CA    CDF     AEU    JACKSON  00017640   \n",
       "3  2023.0    CA    CDF     AEU     CARBON  00018821   \n",
       "4  2023.0    CA    CDF     AEU    LIBERTY  00018876   \n",
       "\n",
       "                                  IRWINID           ALARM_DATE  \\\n",
       "0  {7985848C-0AC2-4BA4-8F0E-29F778652E61}  2023-06-17T00:00:00   \n",
       "1  {43EBCC88-B3AC-48EB-8EF5-417FE0939CCF}  2023-06-02T00:00:00   \n",
       "2  {B64E1355-BF1D-441A-95D0-BC1FBB93483B}  2023-07-01T00:00:00   \n",
       "3  {CB41DB0A-E4B1-489D-A4EA-738F2CD6DB3B}  2023-07-11T00:00:00   \n",
       "4  {F83F70A4-07A7-40B8-BD51-10CCC1C30D63}  2023-07-11T00:00:00   \n",
       "\n",
       "             CONT_DATE  C_METHOD  CAUSE  OBJECTIVE  GIS_ACRES COMPLEX_NAME  \\\n",
       "0  2023-06-17T00:00:00       1.0    5.0        1.0   5.729125         None   \n",
       "1  2023-06-02T00:00:00       1.0    5.0        1.0  13.602385         None   \n",
       "2  2023-07-02T00:00:00       1.0    2.0        1.0  27.814465         None   \n",
       "3  2023-07-11T00:00:00       1.0    9.0        1.0  58.760227         None   \n",
       "4  2023-07-12T00:00:00       1.0   14.0        1.0  70.978996         None   \n",
       "\n",
       "  COMPLEX_ID COMMENTS FIRE_NUM  Shape_Length     Shape_Area  \\\n",
       "0       None     None     None    933.907127   23184.946763   \n",
       "1       None     None     None    986.343353   55046.898792   \n",
       "2       None     None     None   2115.572740  112561.147688   \n",
       "3       None     None     None   1994.866526  237794.210367   \n",
       "4       None     None     None   4008.305800  287241.810389   \n",
       "\n",
       "                                            geometry  \n",
       "0  MULTIPOLYGON (((-243242.555 394267.371, -24324...  \n",
       "1  MULTIPOLYGON (((-167826.147 203275.612, -16782...  \n",
       "2  MULTIPOLYGON (((-79176.443 31393.490, -78959.0...  \n",
       "3  MULTIPOLYGON (((-85936.934 47921.886, -85856.4...  \n",
       "4  MULTIPOLYGON (((-86427.836 26461.613, -86436.1...  "
      ]
     },
     "execution_count": 11,
     "metadata": {},
     "output_type": "execute_result"
    }
   ],
   "source": [
    "ca_fires.head()"
   ]
  },
  {
   "cell_type": "code",
   "execution_count": null,
   "id": "478398ff-7669-4654-b399-93ff42931157",
   "metadata": {},
   "outputs": [],
   "source": []
  },
  {
   "cell_type": "code",
   "execution_count": null,
   "id": "388c60c5-3cc6-4ae9-b04f-816b563859e3",
   "metadata": {},
   "outputs": [],
   "source": []
  },
  {
   "cell_type": "code",
   "execution_count": null,
   "id": "f3b62597-1c7f-4fa0-b6ad-948baf85c0b2",
   "metadata": {},
   "outputs": [],
   "source": []
  },
  {
   "cell_type": "code",
   "execution_count": null,
   "id": "73c24f92-0030-4fe4-9150-ef7124a58c04",
   "metadata": {},
   "outputs": [],
   "source": []
  },
  {
   "cell_type": "code",
   "execution_count": 20,
   "id": "48456249-df65-419e-88a6-0dcfbe125756",
   "metadata": {
    "tags": []
   },
   "outputs": [],
   "source": [
    "# \n",
    "thomas_fire = ca_fires[ca_fires['FIRE_NAME'] == 'THOMAS']"
   ]
  },
  {
   "cell_type": "code",
   "execution_count": 22,
   "id": "addf748b-9ea8-4256-a902-d6fa2411d7d5",
   "metadata": {
    "tags": []
   },
   "outputs": [
    {
     "name": "stderr",
     "output_type": "stream",
     "text": [
      "/tmp/ipykernel_2206683/5548408.py:1: UserWarning: Column names longer than 10 characters will be truncated when saved to ESRI Shapefile.\n",
      "  thomas_fire.to_file(os.path.join('data', 'thomas_fire.shp'))\n"
     ]
    }
   ],
   "source": [
    "thomas_fire.to_file(os.path.join('data', 'thomas_fire.shp'))"
   ]
  },
  {
   "cell_type": "code",
   "execution_count": null,
   "id": "e11bdf2e-c0a2-4351-bb26-242cfd3c9ee6",
   "metadata": {},
   "outputs": [],
   "source": []
  }
 ],
 "metadata": {
  "kernelspec": {
   "display_name": "Anaconda 3 (Base)",
   "language": "python",
   "name": "base"
  },
  "language_info": {
   "codemirror_mode": {
    "name": "ipython",
    "version": 3
   },
   "file_extension": ".py",
   "mimetype": "text/x-python",
   "name": "python",
   "nbconvert_exporter": "python",
   "pygments_lexer": "ipython3",
   "version": "3.9.13"
  }
 },
 "nbformat": 4,
 "nbformat_minor": 5
}
